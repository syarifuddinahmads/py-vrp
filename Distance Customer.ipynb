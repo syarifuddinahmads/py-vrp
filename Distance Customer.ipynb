{
 "cells": [
  {
   "cell_type": "code",
   "execution_count": 6,
   "metadata": {},
   "outputs": [],
   "source": [
    "def create_data_model():\n",
    "    data = {}\n",
    "    # data model customer\n",
    "    data['customer'] = [\n",
    "        ('Richa',55),\n",
    "        ('Calvin',50),\n",
    "        ('Yono',50),\n",
    "        ('Tutik',55),\n",
    "        ('Febri',70),\n",
    "        ('Zahwa',45),\n",
    "        ('Cipto',60),\n",
    "        ('Eko',60),\n",
    "        ('Khamimah',40),\n",
    "        ('Mamik',35),\n",
    "    ]\n",
    "    \n",
    "    # data model distance\n",
    "    data['distance_matrix'] = [\n",
    "        [0,8.3,10.2,6.5,6.6,7.1,7.7,5.8,6.0,5.7,8.1],\n",
    "        [8.3,0,6.8,7.2,5.9,8.8,9.0,4.4,7.9,9.1,5.5],\n",
    "        [10.2,6.8,0,7.8,6.1,3.2,8.0,5.1,10.0,7.3,4.5],\n",
    "        [6.5,7.2,7.8,0,5.6,4.7,6.7,7.0,6.9,6.8,9.9],\n",
    "        [6.6,5.9,6.1,5.6,0,8.9,6.2,0.3,8.2,3.8,5.3],\n",
    "        [7.1,8.8,3.2,4.7,8.9,0,7.5,4.8,3.9,4.1,6.4],\n",
    "        [7.7,9.0,8.0,6.7,6.2,7.5,0,5.4,6.5,9.5,7.4],\n",
    "        [5.8,4.4,5.1,7.0,10.3,4.8,5.4,0,6.3,4.6,8.5],\n",
    "        [6.0,7.9,10.0,6.9,8.2,3.9,6.5,6.3,0,8.4,11.0],\n",
    "        [5.7,9.1,7.3,6.8,3.8,4.1,9.5,4.6,8.4,0,7.6],\n",
    "        [8.1,5.5,4.5,9.9,5.3,6.4,7.4,8.5,11.0,7.6,0],\n",
    "    ]\n",
    "    \n",
    "    data['depo'] = 0\n",
    "    \n",
    "    return data"
   ]
  },
  {
   "cell_type": "code",
   "execution_count": 7,
   "metadata": {},
   "outputs": [
    {
     "output_type": "stream",
     "name": "stdout",
     "text": [
      "[('Richa', 55), ('Calvin', 50), ('Yono', 50), ('Tutik', 55), ('Febri', 70), ('Zahwa', 45), ('Cipto', 60), ('Eko', 60), ('Khamimah', 40), ('Mamik', 35)]\n"
     ]
    }
   ],
   "source": [
    "data = create_data_model()\n",
    "print(data['customer'])"
   ]
  },
  {
   "cell_type": "code",
   "execution_count": 8,
   "metadata": {},
   "outputs": [
    {
     "output_type": "execute_result",
     "data": {
      "text/plain": [
       "('Richa', 55)"
      ]
     },
     "metadata": {},
     "execution_count": 8
    }
   ],
   "source": [
    "data['customer'][0]"
   ]
  },
  {
   "cell_type": "code",
   "execution_count": 9,
   "metadata": {},
   "outputs": [
    {
     "output_type": "execute_result",
     "data": {
      "text/plain": [
       "55"
      ]
     },
     "metadata": {},
     "execution_count": 9
    }
   ],
   "source": [
    "data['customer'][0][1]"
   ]
  },
  {
   "cell_type": "code",
   "execution_count": 14,
   "metadata": {},
   "outputs": [
    {
     "output_type": "execute_result",
     "data": {
      "text/plain": [
       "[[0, 8.3, 10.2, 6.5, 6.6, 7.1, 7.7, 5.8, 6.0, 5.7, 8.1],\n",
       " [8.3, 0, 6.8, 7.2, 5.9, 8.8, 9.0, 4.4, 7.9, 9.1, 5.5],\n",
       " [10.2, 6.8, 0, 7.8, 6.1, 3.2, 8.0, 5.1, 10.0, 7.3, 4.5],\n",
       " [6.5, 7.2, 7.8, 0, 5.6, 4.7, 6.7, 7.0, 6.9, 6.8, 9.9],\n",
       " [6.6, 5.9, 6.1, 5.6, 0, 8.9, 6.2, 0.3, 8.2, 3.8, 5.3],\n",
       " [7.1, 8.8, 3.2, 4.7, 8.9, 0, 7.5, 4.8, 3.9, 4.1, 6.4],\n",
       " [7.7, 9.0, 8.0, 6.7, 6.2, 7.5, 0, 5.4, 6.5, 9.5, 7.4],\n",
       " [5.8, 4.4, 5.1, 7.0, 10.3, 4.8, 5.4, 0, 6.3, 4.6, 8.5],\n",
       " [6.0, 7.9, 10.0, 6.9, 8.2, 3.9, 6.5, 6.3, 0, 8.4, 11.0],\n",
       " [5.7, 9.1, 7.3, 6.8, 3.8, 4.1, 9.5, 4.6, 8.4, 0, 7.6],\n",
       " [8.1, 5.5, 4.5, 9.9, 5.3, 6.4, 7.4, 8.5, 11.0, 7.6, 0]]"
      ]
     },
     "metadata": {},
     "execution_count": 14
    }
   ],
   "source": [
    "data['distance_matrix']"
   ]
  },
  {
   "cell_type": "code",
   "execution_count": 15,
   "metadata": {},
   "outputs": [],
   "source": [
    "import numpy\n",
    "array = numpy.asarray(data['distance_matrix'])\n",
    "numpy.savetxt(\"data_distance_matrix.csv\", array, delimiter=\",\",header=\"0,1,2,3,4,5,6,7,8,9,10\")"
   ]
  },
  {
   "cell_type": "code",
   "execution_count": 8,
   "metadata": {},
   "outputs": [
    {
     "data": {
      "text/html": [
       "<div>\n",
       "<style scoped>\n",
       "    .dataframe tbody tr th:only-of-type {\n",
       "        vertical-align: middle;\n",
       "    }\n",
       "\n",
       "    .dataframe tbody tr th {\n",
       "        vertical-align: top;\n",
       "    }\n",
       "\n",
       "    .dataframe thead th {\n",
       "        text-align: right;\n",
       "    }\n",
       "</style>\n",
       "<table border=\"1\" class=\"dataframe\">\n",
       "  <thead>\n",
       "    <tr style=\"text-align: right;\">\n",
       "      <th></th>\n",
       "      <th># 0</th>\n",
       "      <th>1</th>\n",
       "      <th>2</th>\n",
       "      <th>3</th>\n",
       "      <th>4</th>\n",
       "      <th>5</th>\n",
       "      <th>6</th>\n",
       "      <th>7</th>\n",
       "      <th>8</th>\n",
       "      <th>9</th>\n",
       "      <th>10</th>\n",
       "    </tr>\n",
       "  </thead>\n",
       "  <tbody>\n",
       "    <tr>\n",
       "      <th>0</th>\n",
       "      <td>0.0</td>\n",
       "      <td>8.3</td>\n",
       "      <td>10.2</td>\n",
       "      <td>6.5</td>\n",
       "      <td>6.6</td>\n",
       "      <td>7.1</td>\n",
       "      <td>7.7</td>\n",
       "      <td>5.8</td>\n",
       "      <td>6.0</td>\n",
       "      <td>5.7</td>\n",
       "      <td>8.1</td>\n",
       "    </tr>\n",
       "    <tr>\n",
       "      <th>1</th>\n",
       "      <td>8.3</td>\n",
       "      <td>0.0</td>\n",
       "      <td>6.8</td>\n",
       "      <td>7.2</td>\n",
       "      <td>5.9</td>\n",
       "      <td>8.8</td>\n",
       "      <td>9.0</td>\n",
       "      <td>4.4</td>\n",
       "      <td>7.9</td>\n",
       "      <td>9.1</td>\n",
       "      <td>5.5</td>\n",
       "    </tr>\n",
       "    <tr>\n",
       "      <th>2</th>\n",
       "      <td>10.2</td>\n",
       "      <td>6.8</td>\n",
       "      <td>0.0</td>\n",
       "      <td>7.8</td>\n",
       "      <td>6.1</td>\n",
       "      <td>3.2</td>\n",
       "      <td>8.0</td>\n",
       "      <td>5.1</td>\n",
       "      <td>10.0</td>\n",
       "      <td>7.3</td>\n",
       "      <td>4.5</td>\n",
       "    </tr>\n",
       "    <tr>\n",
       "      <th>3</th>\n",
       "      <td>6.5</td>\n",
       "      <td>7.2</td>\n",
       "      <td>7.8</td>\n",
       "      <td>0.0</td>\n",
       "      <td>5.6</td>\n",
       "      <td>4.7</td>\n",
       "      <td>6.7</td>\n",
       "      <td>7.0</td>\n",
       "      <td>6.9</td>\n",
       "      <td>6.8</td>\n",
       "      <td>9.9</td>\n",
       "    </tr>\n",
       "    <tr>\n",
       "      <th>4</th>\n",
       "      <td>6.6</td>\n",
       "      <td>5.9</td>\n",
       "      <td>6.1</td>\n",
       "      <td>5.6</td>\n",
       "      <td>0.0</td>\n",
       "      <td>8.9</td>\n",
       "      <td>6.2</td>\n",
       "      <td>0.3</td>\n",
       "      <td>8.2</td>\n",
       "      <td>3.8</td>\n",
       "      <td>5.3</td>\n",
       "    </tr>\n",
       "    <tr>\n",
       "      <th>5</th>\n",
       "      <td>7.1</td>\n",
       "      <td>8.8</td>\n",
       "      <td>3.2</td>\n",
       "      <td>4.7</td>\n",
       "      <td>8.9</td>\n",
       "      <td>0.0</td>\n",
       "      <td>7.5</td>\n",
       "      <td>4.8</td>\n",
       "      <td>3.9</td>\n",
       "      <td>4.1</td>\n",
       "      <td>6.4</td>\n",
       "    </tr>\n",
       "    <tr>\n",
       "      <th>6</th>\n",
       "      <td>7.7</td>\n",
       "      <td>9.0</td>\n",
       "      <td>8.0</td>\n",
       "      <td>6.7</td>\n",
       "      <td>6.2</td>\n",
       "      <td>7.5</td>\n",
       "      <td>0.0</td>\n",
       "      <td>5.4</td>\n",
       "      <td>6.5</td>\n",
       "      <td>9.5</td>\n",
       "      <td>7.4</td>\n",
       "    </tr>\n",
       "    <tr>\n",
       "      <th>7</th>\n",
       "      <td>5.8</td>\n",
       "      <td>4.4</td>\n",
       "      <td>5.1</td>\n",
       "      <td>7.0</td>\n",
       "      <td>10.3</td>\n",
       "      <td>4.8</td>\n",
       "      <td>5.4</td>\n",
       "      <td>0.0</td>\n",
       "      <td>6.3</td>\n",
       "      <td>4.6</td>\n",
       "      <td>8.5</td>\n",
       "    </tr>\n",
       "    <tr>\n",
       "      <th>8</th>\n",
       "      <td>6.0</td>\n",
       "      <td>7.9</td>\n",
       "      <td>10.0</td>\n",
       "      <td>6.9</td>\n",
       "      <td>8.2</td>\n",
       "      <td>3.9</td>\n",
       "      <td>6.5</td>\n",
       "      <td>6.3</td>\n",
       "      <td>0.0</td>\n",
       "      <td>8.4</td>\n",
       "      <td>11.0</td>\n",
       "    </tr>\n",
       "    <tr>\n",
       "      <th>9</th>\n",
       "      <td>5.7</td>\n",
       "      <td>9.1</td>\n",
       "      <td>7.3</td>\n",
       "      <td>6.8</td>\n",
       "      <td>3.8</td>\n",
       "      <td>4.1</td>\n",
       "      <td>9.5</td>\n",
       "      <td>4.6</td>\n",
       "      <td>8.4</td>\n",
       "      <td>0.0</td>\n",
       "      <td>7.6</td>\n",
       "    </tr>\n",
       "    <tr>\n",
       "      <th>10</th>\n",
       "      <td>8.1</td>\n",
       "      <td>5.5</td>\n",
       "      <td>4.5</td>\n",
       "      <td>9.9</td>\n",
       "      <td>5.3</td>\n",
       "      <td>6.4</td>\n",
       "      <td>7.4</td>\n",
       "      <td>8.5</td>\n",
       "      <td>11.0</td>\n",
       "      <td>7.6</td>\n",
       "      <td>0.0</td>\n",
       "    </tr>\n",
       "  </tbody>\n",
       "</table>\n",
       "</div>"
      ],
      "text/plain": [
       "     # 0    1     2    3     4    5    6    7     8    9    10\n",
       "0    0.0  8.3  10.2  6.5   6.6  7.1  7.7  5.8   6.0  5.7   8.1\n",
       "1    8.3  0.0   6.8  7.2   5.9  8.8  9.0  4.4   7.9  9.1   5.5\n",
       "2   10.2  6.8   0.0  7.8   6.1  3.2  8.0  5.1  10.0  7.3   4.5\n",
       "3    6.5  7.2   7.8  0.0   5.6  4.7  6.7  7.0   6.9  6.8   9.9\n",
       "4    6.6  5.9   6.1  5.6   0.0  8.9  6.2  0.3   8.2  3.8   5.3\n",
       "5    7.1  8.8   3.2  4.7   8.9  0.0  7.5  4.8   3.9  4.1   6.4\n",
       "6    7.7  9.0   8.0  6.7   6.2  7.5  0.0  5.4   6.5  9.5   7.4\n",
       "7    5.8  4.4   5.1  7.0  10.3  4.8  5.4  0.0   6.3  4.6   8.5\n",
       "8    6.0  7.9  10.0  6.9   8.2  3.9  6.5  6.3   0.0  8.4  11.0\n",
       "9    5.7  9.1   7.3  6.8   3.8  4.1  9.5  4.6   8.4  0.0   7.6\n",
       "10   8.1  5.5   4.5  9.9   5.3  6.4  7.4  8.5  11.0  7.6   0.0"
      ]
     },
     "execution_count": 8,
     "metadata": {},
     "output_type": "execute_result"
    }
   ],
   "source": [
    "import pandas as pd\n",
    "df = pd.read_csv('data_distance_matrix.csv')\n",
    "df"
   ]
  },
  {
   "cell_type": "code",
   "execution_count": 16,
   "metadata": {},
   "outputs": [],
   "source": [
    "def count_distance_customer():\n",
    "    data_distance = data['distance_matrix']\n",
    "    leng_matrix = len(data_distance)\n",
    "    counter_loop = 2\n",
    "    while counter_loop < leng_matrix:\n",
    "#         print('Y = ',data_distance[0][1])\n",
    "#         print('X = ',data_distance[counter_loop][0])\n",
    "#         print('XY = ',data_distance[counter_loop][1])\n",
    "        x = data_distance[counter_loop][0]\n",
    "        y = data_distance[0][1]\n",
    "        xy = data_distance[counter_loop][1]\n",
    "        total_xy = x+y-xy\n",
    "        print('Total = ',round(total_xy,2))\n",
    "        \n",
    "        counter_loop+=1\n",
    "        \n",
    "            "
   ]
  },
  {
   "cell_type": "code",
   "execution_count": 10,
   "metadata": {},
   "outputs": [
    {
     "name": "stdout",
     "output_type": "stream",
     "text": [
      "Total =  11.7\n",
      "Total =  7.6\n",
      "Total =  9.0\n",
      "Total =  6.6\n",
      "Total =  7.0\n",
      "Total =  9.7\n",
      "Total =  6.4\n",
      "Total =  4.9\n",
      "Total =  10.9\n"
     ]
    }
   ],
   "source": [
    "count_distance_customer()"
   ]
  },
  {
   "cell_type": "code",
   "execution_count": 17,
   "metadata": {},
   "outputs": [],
   "source": [
    "def count_distance_customer_2():\n",
    "    data_distance = data['distance_matrix']\n",
    "    leng_matrix = len(data_distance)\n",
    "    counter_loop = 3\n",
    "    while counter_loop < leng_matrix:\n",
    "#         print('Y = ',data_distance[0][1])\n",
    "#         print('X = ',data_distance[counter_loop][0])\n",
    "#         print('XY = ',data_distance[counter_loop][1])\n",
    "        x = data_distance[counter_loop][0]\n",
    "        y = data_distance[0][2]\n",
    "        xy = data_distance[counter_loop][2]\n",
    "        total_xy = x+y-xy\n",
    "        print('Total = ',round(total_xy,2))\n",
    "        \n",
    "        counter_loop+=1"
   ]
  },
  {
   "cell_type": "code",
   "execution_count": 12,
   "metadata": {},
   "outputs": [
    {
     "name": "stdout",
     "output_type": "stream",
     "text": [
      "Total =  8.9\n",
      "Total =  10.7\n",
      "Total =  14.1\n",
      "Total =  9.9\n",
      "Total =  10.9\n",
      "Total =  6.2\n",
      "Total =  8.6\n",
      "Total =  13.8\n"
     ]
    }
   ],
   "source": [
    "count_distance_customer_2()"
   ]
  },
  {
   "cell_type": "code",
   "execution_count": 18,
   "metadata": {},
   "outputs": [],
   "source": [
    "def count_distance_customer_3():\n",
    "    data_distance = data['distance_matrix']\n",
    "    leng_matrix = len(data_distance)\n",
    "    counter_loop = 4\n",
    "    while counter_loop < leng_matrix:\n",
    "#         print('Y = ',data_distance[0][1])\n",
    "#         print('X = ',data_distance[counter_loop][0])\n",
    "#         print('XY = ',data_distance[counter_loop][1])\n",
    "        x = data_distance[counter_loop][0]\n",
    "        y = data_distance[0][3]\n",
    "        xy = data_distance[counter_loop][3]\n",
    "        total_xy = x+y-xy\n",
    "        print('Total = ',round(total_xy,2))\n",
    "        \n",
    "        counter_loop+=1"
   ]
  },
  {
   "cell_type": "code",
   "execution_count": 19,
   "metadata": {},
   "outputs": [
    {
     "output_type": "stream",
     "name": "stdout",
     "text": [
      "Total =  7.5\nTotal =  8.9\nTotal =  7.5\nTotal =  5.3\nTotal =  5.6\nTotal =  5.4\nTotal =  4.7\n"
     ]
    }
   ],
   "source": [
    "count_distance_customer_3()"
   ]
  },
  {
   "cell_type": "code",
   "execution_count": 4,
   "metadata": {},
   "outputs": [],
   "source": [
    "def count_distance_customer_dinamic(counter):\n",
    "    data_distance = data['distance_matrix']\n",
    "    leng_matrix = len(data_distance)\n",
    "    counter_loop = counter+1\n",
    "    _data = []\n",
    "    while counter_loop < leng_matrix:\n",
    "#         print('Y = ',data_distance[0][1])\n",
    "#         print('X = ',data_distance[counter_loop][0])\n",
    "#         print('XY = ',data_distance[counter_loop][1])\n",
    "        x = data_distance[counter_loop][0]\n",
    "        y = data_distance[0][counter]\n",
    "        xy = data_distance[counter_loop][counter]\n",
    "        total_xy = x+y-xy\n",
    "        print('Total = ',round(total_xy,2))\n",
    "        _data.append(round(total_xy,2))\n",
    "        \n",
    "        counter_loop+=1\n",
    "    return _data"
   ]
  },
  {
   "cell_type": "code",
   "execution_count": 20,
   "metadata": {},
   "outputs": [
    {
     "output_type": "stream",
     "name": "stdout",
     "text": [
      "==========================================================\nTotal =  11.7\nTotal =  7.6\nTotal =  9.0\nTotal =  6.6\nTotal =  7.0\nTotal =  9.7\nTotal =  6.4\nTotal =  4.9\nTotal =  10.9\n==========================================================\nTotal =  8.9\nTotal =  10.7\nTotal =  14.1\nTotal =  9.9\nTotal =  10.9\nTotal =  6.2\nTotal =  8.6\nTotal =  13.8\n==========================================================\nTotal =  7.5\nTotal =  8.9\nTotal =  7.5\nTotal =  5.3\nTotal =  5.6\nTotal =  5.4\nTotal =  4.7\n==========================================================\nTotal =  4.8\nTotal =  8.1\nTotal =  2.1\nTotal =  4.4\nTotal =  8.5\nTotal =  9.4\n==========================================================\nTotal =  7.3\nTotal =  8.1\nTotal =  9.2\nTotal =  8.7\nTotal =  8.8\n==========================================================\nTotal =  8.1\nTotal =  7.2\nTotal =  3.9\nTotal =  8.4\n==========================================================\nTotal =  5.5\nTotal =  6.9\nTotal =  5.4\n==========================================================\nTotal =  3.3\nTotal =  3.1\n==========================================================\nTotal =  6.2\n"
     ]
    }
   ],
   "source": [
    "starting_point = 1\n",
    "data_distance_matrix = []\n",
    "while starting_point < len(data['distance_matrix'])-1:\n",
    "    print('==========================================================')\n",
    "    data_distance_matrix.append(count_distance_customer_dinamic(starting_point))\n",
    "    starting_point+=1\n",
    "    "
   ]
  },
  {
   "cell_type": "code",
   "execution_count": 17,
   "metadata": {},
   "outputs": [
    {
     "data": {
      "text/plain": [
       "[[11.7, 7.6, 9.0, 6.6, 7.0, 9.7, 6.4, 4.9, 10.9],\n",
       " [8.9, 10.7, 14.1, 9.9, 10.9, 6.2, 8.6, 13.8],\n",
       " [7.5, 8.9, 7.5, 5.3, 5.6, 5.4, 4.7],\n",
       " [4.8, 8.1, 2.1, 4.4, 8.5, 9.4],\n",
       " [7.3, 8.1, 9.2, 8.7, 8.8],\n",
       " [8.1, 7.2, 3.9, 8.4],\n",
       " [5.5, 6.9, 5.4],\n",
       " [3.3, 3.1],\n",
       " [6.2]]"
      ]
     },
     "execution_count": 17,
     "metadata": {},
     "output_type": "execute_result"
    }
   ],
   "source": [
    "data_distance_matrix"
   ]
  },
  {
   "cell_type": "code",
   "execution_count": null,
   "metadata": {},
   "outputs": [],
   "source": []
  },
  {
   "cell_type": "code",
   "execution_count": null,
   "metadata": {},
   "outputs": [],
   "source": []
  }
 ],
 "metadata": {
  "kernelspec": {
   "name": "python376jvsc74a57bd029ad3fd52bd0e729cc853b79b5e1a27e3888818c627184b54043b9d077c2447f",
   "display_name": "Python 3.7.6 64-bit ('base': conda)"
  },
  "language_info": {
   "codemirror_mode": {
    "name": "ipython",
    "version": 3
   },
   "file_extension": ".py",
   "mimetype": "text/x-python",
   "name": "python",
   "nbconvert_exporter": "python",
   "pygments_lexer": "ipython3",
   "version": "3.7.6"
  },
  "metadata": {
   "interpreter": {
    "hash": "29ad3fd52bd0e729cc853b79b5e1a27e3888818c627184b54043b9d077c2447f"
   }
  }
 },
 "nbformat": 4,
 "nbformat_minor": 4
}